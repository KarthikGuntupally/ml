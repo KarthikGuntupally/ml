{
  "nbformat": 4,
  "nbformat_minor": 0,
  "metadata": {
    "colab": {
      "provenance": [],
      "authorship_tag": "ABX9TyMoLqbttA1a8uLTnb0GMxV8",
      "include_colab_link": true
    },
    "kernelspec": {
      "name": "python3",
      "display_name": "Python 3"
    },
    "language_info": {
      "name": "python"
    }
  },
  "cells": [
    {
      "cell_type": "markdown",
      "metadata": {
        "id": "view-in-github",
        "colab_type": "text"
      },
      "source": [
        "<a href=\"https://colab.research.google.com/github/KarthikGuntupally/ml/blob/main/Python_Basics.ipynb\" target=\"_parent\"><img src=\"https://colab.research.google.com/assets/colab-badge.svg\" alt=\"Open In Colab\"/></a>"
      ]
    },
    {
      "cell_type": "code",
      "execution_count": 1,
      "metadata": {
        "colab": {
          "base_uri": "https://localhost:8080/"
        },
        "id": "cDYUb0UNF5zG",
        "outputId": "e9fa5d70-4aea-4686-f692-6909216fbe85"
      },
      "outputs": [
        {
          "output_type": "stream",
          "name": "stdout",
          "text": [
            "HI, EVERYONE!\n",
            "hi, everyone!\n",
            "Hello, World!\n",
            "Ji, Everyone!\n",
            "['Hi', ' Everyone!']\n",
            "HiEveryone\n",
            "Iam Karthik_CB.EN.U4CSE20130 36\n",
            "I want 86.97 pieces of item 5 for 986 dollars.\n"
          ]
        }
      ],
      "source": [
        "# Python String Operations\n",
        "a = \"Hi, Everyone!\"\n",
        "print(a.upper())\n",
        "\n",
        "a = \"Hi, Everyone!\"\n",
        "print(a.lower())\n",
        "\n",
        "a = \" Hello, World! \"\n",
        "print(a.strip())\n",
        "\n",
        "a = \"Hi, Everyone!\"\n",
        "print(a.replace(\"H\", \"J\"))\n",
        "\n",
        "a = \"Hi, Everyone!\"\n",
        "print(a.split(\",\"))\n",
        "\n",
        "a = \"Hi\"\n",
        "b = \"Everyone\"\n",
        "c = a + b\n",
        "print(c)\n",
        "\n",
        "age = 36\n",
        "txt = \"Iam Karthik_CB.EN.U4CSE20130 {}\"\n",
        "print(txt.format(age))\n",
        "\n",
        "quantity = 5\n",
        "itemno = 986\n",
        "price = 86.97\n",
        "myorder = \"I want {2} pieces of item {0} for {1} dollars.\"\n",
        "print(myorder.format(quantity, itemno, price))"
      ]
    },
    {
      "cell_type": "code",
      "source": [
        "# Python List\n",
        "\n",
        "thislist = [\"CAKE\", \"APPLE\", \"\"]\n",
        "print(len(thislist))\n",
        "\n",
        "list1 = [\"apple\", \"banana\", \"cherry\"]\n",
        "list2 = [1, 5, 7, 9, 3]\n",
        "list3 = [True, False, False]\n",
        "list4 = [\"abc\", 34, True, 40, \"male\"]\n",
        "\n",
        "thislist = [\"apple\", \"banana\", \"melon\", \"mango\"]\n",
        "print(thislist[2:5])\n",
        "print(thislist[:4])\n",
        "print(thislist[2:])\n",
        "print(thislist[-4:-1])\n"
      ],
      "metadata": {
        "colab": {
          "base_uri": "https://localhost:8080/"
        },
        "id": "f-M5Gov5Gqkb",
        "outputId": "5fceda09-70d2-4706-cfba-267be03a7d0a"
      },
      "execution_count": 6,
      "outputs": [
        {
          "output_type": "stream",
          "name": "stdout",
          "text": [
            "3\n",
            "['melon', 'mango']\n",
            "['apple', 'banana', 'melon', 'mango']\n",
            "['melon', 'mango']\n",
            "['apple', 'banana', 'melon']\n"
          ]
        }
      ]
    },
    {
      "cell_type": "code",
      "source": [
        "# Python Dictionaries\n",
        "\n",
        "thisdict = {\n",
        "  \"brand\": \"BMW\",\n",
        "  \"model\": \"SUV\",\n",
        "  \"year\": 2003\n",
        "}\n",
        "print(thisdict)\n",
        "\n",
        "thisdict = {\n",
        "  \"brand\": \"BMW\",\n",
        "  \"model\": \"SUV\",\n",
        "  \"year\": 2003,\n",
        "  \"year\": 2013\n",
        "  \n",
        "}\n",
        "print(thisdict)\n",
        "\n",
        "print(thisdict[\"model\"])\n",
        "\n",
        "print(thisdict.get(\"model\"))\n",
        "\n",
        "print(thisdict.keys())\n",
        "\n",
        "print(thisdict.values())\n",
        "\n",
        "print(thisdict.items())"
      ],
      "metadata": {
        "colab": {
          "base_uri": "https://localhost:8080/"
        },
        "id": "nbCyfPCBGqei",
        "outputId": "440394a1-0641-41cc-f3bf-45e48504db94"
      },
      "execution_count": 11,
      "outputs": [
        {
          "output_type": "stream",
          "name": "stdout",
          "text": [
            "{'brand': 'BMW', 'model': 'SUV', 'year': 2003}\n",
            "{'brand': 'BMW', 'model': 'SUV', 'year': 2013}\n",
            "SUV\n",
            "SUV\n",
            "dict_keys(['brand', 'model', 'year'])\n",
            "dict_values(['BMW', 'SUV', 2013])\n",
            "dict_items([('brand', 'BMW'), ('model', 'SUV'), ('year', 2013)])\n"
          ]
        }
      ]
    },
    {
      "cell_type": "code",
      "source": [
        "def my_function():\n",
        "  print(\"Hello from myself\")\n",
        "\n",
        "my_function()\n",
        "\n"
      ],
      "metadata": {
        "colab": {
          "base_uri": "https://localhost:8080/"
        },
        "id": "0OyXpMCMGqb9",
        "outputId": "deb844fa-6bc0-404e-9852-9274026d10a0"
      },
      "execution_count": 9,
      "outputs": [
        {
          "output_type": "stream",
          "name": "stdout",
          "text": [
            "Hello from myself\n"
          ]
        }
      ]
    },
    {
      "cell_type": "code",
      "source": [
        "x = lambda a : a + 98\n",
        "print(x(7))\n",
        "\n",
        "\n",
        "x = lambda a, b : a * b\n",
        "print(x(9, 3))\n",
        "\n",
        "def myfunc(n):\n",
        "  return lambda a : a * n\n",
        "\n",
        "mydoubler = myfunc(4)\n",
        "mytripler = myfunc(2)\n",
        "\n",
        "print(mydoubler(11))\n",
        "print(mytripler(11))\n",
        "\n",
        "\n"
      ],
      "metadata": {
        "colab": {
          "base_uri": "https://localhost:8080/"
        },
        "id": "9QwQWHAwGqZU",
        "outputId": "0333c106-233d-4e4b-bc1d-c1bc4d633347"
      },
      "execution_count": 8,
      "outputs": [
        {
          "output_type": "stream",
          "name": "stdout",
          "text": [
            "105\n",
            "27\n",
            "44\n",
            "22\n"
          ]
        }
      ]
    }
  ]
}